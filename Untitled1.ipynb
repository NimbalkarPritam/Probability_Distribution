{
 "cells": [
  {
   "cell_type": "code",
   "execution_count": 1,
   "id": "1796b195",
   "metadata": {},
   "outputs": [],
   "source": [
    "import pandas as pd"
   ]
  },
  {
   "cell_type": "code",
   "execution_count": 2,
   "id": "01353d1b",
   "metadata": {},
   "outputs": [],
   "source": [
    "from scipy import stats"
   ]
  },
  {
   "cell_type": "code",
   "execution_count": 3,
   "id": "0f59c54a",
   "metadata": {},
   "outputs": [],
   "source": [
    "cars=pd.read_csv(\"E:\\Cars.csv\")"
   ]
  },
  {
   "cell_type": "code",
   "execution_count": 4,
   "id": "54c80173",
   "metadata": {},
   "outputs": [],
   "source": [
    "u=cars.MPG.mean()"
   ]
  },
  {
   "cell_type": "code",
   "execution_count": 5,
   "id": "ddb78431",
   "metadata": {},
   "outputs": [
    {
     "data": {
      "text/plain": [
       "34.422075728024666"
      ]
     },
     "execution_count": 5,
     "metadata": {},
     "output_type": "execute_result"
    }
   ],
   "source": [
    "u"
   ]
  },
  {
   "cell_type": "code",
   "execution_count": 6,
   "id": "8be06732",
   "metadata": {},
   "outputs": [],
   "source": [
    "s=cars.MPG.std()"
   ]
  },
  {
   "cell_type": "code",
   "execution_count": 7,
   "id": "30385831",
   "metadata": {},
   "outputs": [
    {
     "data": {
      "text/plain": [
       "9.131444731795982"
      ]
     },
     "execution_count": 7,
     "metadata": {},
     "output_type": "execute_result"
    }
   ],
   "source": [
    "s"
   ]
  },
  {
   "cell_type": "code",
   "execution_count": 8,
   "id": "81d19074",
   "metadata": {},
   "outputs": [],
   "source": [
    "#P(MPG>38)\n",
    "z=stats.norm.cdf(38,u,s)"
   ]
  },
  {
   "cell_type": "code",
   "execution_count": 9,
   "id": "cf791da3",
   "metadata": {},
   "outputs": [
    {
     "data": {
      "text/plain": [
       "0.6524060748417295"
      ]
     },
     "execution_count": 9,
     "metadata": {},
     "output_type": "execute_result"
    }
   ],
   "source": [
    "z"
   ]
  },
  {
   "cell_type": "code",
   "execution_count": 10,
   "id": "c3260988",
   "metadata": {},
   "outputs": [
    {
     "data": {
      "text/plain": [
       "0.3475939251582705"
      ]
     },
     "execution_count": 10,
     "metadata": {},
     "output_type": "execute_result"
    }
   ],
   "source": [
    "p=1-z\n",
    "p"
   ]
  },
  {
   "cell_type": "code",
   "execution_count": 13,
   "id": "f82fdaf8",
   "metadata": {},
   "outputs": [
    {
     "data": {
      "text/plain": [
       "0.7293498762151616"
      ]
     },
     "execution_count": 13,
     "metadata": {},
     "output_type": "execute_result"
    }
   ],
   "source": [
    "#P(MPG<40)\n",
    "stats.norm.cdf(40,u,s)"
   ]
  },
  {
   "cell_type": "code",
   "execution_count": null,
   "id": "6380d6e9",
   "metadata": {},
   "outputs": [],
   "source": [
    "# P(20<MPG<50)"
   ]
  },
  {
   "cell_type": "code",
   "execution_count": 14,
   "id": "90a11db0",
   "metadata": {},
   "outputs": [],
   "source": [
    "a=stats.norm.cdf(20,u,s)"
   ]
  },
  {
   "cell_type": "code",
   "execution_count": 15,
   "id": "4426ccc0",
   "metadata": {},
   "outputs": [
    {
     "data": {
      "text/plain": [
       "0.05712377632115936"
      ]
     },
     "execution_count": 15,
     "metadata": {},
     "output_type": "execute_result"
    }
   ],
   "source": [
    "a"
   ]
  },
  {
   "cell_type": "code",
   "execution_count": 16,
   "id": "13552d4f",
   "metadata": {},
   "outputs": [],
   "source": [
    "b=stats.norm.cdf(50,u,s)"
   ]
  },
  {
   "cell_type": "code",
   "execution_count": 17,
   "id": "9f251d2b",
   "metadata": {},
   "outputs": [
    {
     "data": {
      "text/plain": [
       "0.955992693289364"
      ]
     },
     "execution_count": 17,
     "metadata": {},
     "output_type": "execute_result"
    }
   ],
   "source": [
    "b"
   ]
  },
  {
   "cell_type": "code",
   "execution_count": 18,
   "id": "da375cd9",
   "metadata": {},
   "outputs": [],
   "source": [
    "c=b-a"
   ]
  },
  {
   "cell_type": "code",
   "execution_count": 19,
   "id": "55a14c34",
   "metadata": {},
   "outputs": [
    {
     "data": {
      "text/plain": [
       "0.8988689169682046"
      ]
     },
     "execution_count": 19,
     "metadata": {},
     "output_type": "execute_result"
    }
   ],
   "source": [
    "c"
   ]
  },
  {
   "cell_type": "code",
   "execution_count": null,
   "id": "3452196c",
   "metadata": {},
   "outputs": [],
   "source": []
  }
 ],
 "metadata": {
  "kernelspec": {
   "display_name": "Python 3",
   "language": "python",
   "name": "python3"
  },
  "language_info": {
   "codemirror_mode": {
    "name": "ipython",
    "version": 3
   },
   "file_extension": ".py",
   "mimetype": "text/x-python",
   "name": "python",
   "nbconvert_exporter": "python",
   "pygments_lexer": "ipython3",
   "version": "3.8.8"
  }
 },
 "nbformat": 4,
 "nbformat_minor": 5
}
